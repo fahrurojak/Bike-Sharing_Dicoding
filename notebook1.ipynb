{
  "cells": [
    {
      "cell_type": "markdown",
      "metadata": {
        "id": "H9wADwK78DCz"
      },
      "source": [
        "# Proyek Analisis Data: Bike Sharing Dataset\n",
        "- **Nama:** Silvia Dharma\n",
        "- **Email:** silviadharma07@gmail.com\n",
        "- **ID Dicoding:** silvia_dharma_B3Fq"
      ]
    },
    {
      "cell_type": "markdown",
      "metadata": {
        "id": "eE0raob58DC0"
      },
      "source": [
        "## Menentukan Pertanyaan Bisnis"
      ]
    },
    {
      "cell_type": "markdown",
      "metadata": {
        "id": "GmQeQ5YF8DC0"
      },
      "source": [
        "- Bagaimana tren jumlah penyewaan sepeda dalam beberapa tahun terakhir?\n",
        "- Apakah kondisi cuaca mempengaruhi jumlah pengguna sepeda?\n",
        "- Bagaimana perbedaan pola penggunaan sepeda antara hari kerja (workingday), hari libur (holiday), dan hari biasa (weekday)?\n",
        "- Apakah ada korelasi antara suhu yang menunjukkan kondisi ketika jumlah penyewaan sepeda tinggi?\n",
        "- Apakah musim mempengaruhi jumlah penyewa sepeda berdasarkan kategori Casual dan Registered"
      ]
    },
    {
      "cell_type": "markdown",
      "metadata": {
        "id": "H-z4QGlO8DC1"
      },
      "source": [
        "## Import Semua Packages/Library yang Digunakan"
      ]
    },
    {
      "cell_type": "code",
      "execution_count": null,
      "metadata": {
        "id": "FVYwaObI8DC1"
      },
      "outputs": [],
      "source": [
        "# Libraries Used\n",
        "\n",
        "import numpy as np\n",
        "import pandas as pd\n",
        "import matplotlib.pyplot as plt\n",
        "import seaborn as sns\n",
        "import plotly.express as px\n",
        "from datetime import datetime"
      ]
    },
    {
      "cell_type": "markdown",
      "metadata": {
        "id": "h_Sh51Xy8DC1"
      },
      "source": [
        "## Data Wrangling"
      ]
    },
    {
      "cell_type": "markdown",
      "metadata": {
        "id": "sXU2GBYu8DC1"
      },
      "source": [
        "### Gathering Data"
      ]
    },
    {
      "cell_type": "code",
      "execution_count": null,
      "metadata": {
        "colab": {
          "base_uri": "https://localhost:8080/",
          "height": 206
        },
        "id": "zjCBk1BI8DC1",
        "outputId": "fe617897-8e9d-4d79-fc11-dd3a70be2e0a"
      },
      "outputs": [],
      "source": [
        "# Load \"day\" table\n",
        "\n",
        "day_df = pd.read_csv(\"https://raw.githubusercontent.com/slvyarc/Bike-Sharing_Dicoding/main/Dataset/day.csv\")\n",
        "day_df.head()"
      ]
    },
    {
      "cell_type": "code",
      "execution_count": null,
      "metadata": {
        "colab": {
          "base_uri": "https://localhost:8080/",
          "height": 206
        },
        "id": "ulBs3nlNGnIt",
        "outputId": "31e50a4f-fd85-43cf-ec39-1f5bba9ac349"
      },
      "outputs": [],
      "source": [
        "# Load \"hour\" table\n",
        "\n",
        "hour_df = pd.read_csv(\"https://raw.githubusercontent.com/slvyarc/Bike-Sharing_Dicoding/main/Dataset/hour.csv\")\n",
        "hour_df.head()"
      ]
    },
    {
      "cell_type": "markdown",
      "metadata": {
        "id": "FHSiqaZp8DC1"
      },
      "source": [
        "### Assessing Data"
      ]
    },
    {
      "cell_type": "markdown",
      "metadata": {
        "id": "AGeyimeBHjDD"
      },
      "source": [
        "**Menilai day_df**"
      ]
    },
    {
      "cell_type": "code",
      "execution_count": null,
      "metadata": {
        "colab": {
          "base_uri": "https://localhost:8080/"
        },
        "id": "ax-3tEjc9Cj1",
        "outputId": "df7fc054-cf46-4124-84ab-7bf1a701f11f"
      },
      "outputs": [],
      "source": [
        "# Check the data types of day_df\n",
        "day_df.info()"
      ]
    },
    {
      "cell_type": "markdown",
      "metadata": {
        "id": "dXTNWTwjJrNy"
      },
      "source": [
        "Ada 1 tipe data yang tidak sesuai (dteday-object). Data tersebut perlu diperbaiki menjadi dteday -> datetime"
      ]
    },
    {
      "cell_type": "code",
      "execution_count": null,
      "metadata": {
        "colab": {
          "base_uri": "https://localhost:8080/"
        },
        "id": "BRYx3ge_ImGq",
        "outputId": "25f8204d-ac9a-4516-c6e0-2e2177c93d61"
      },
      "outputs": [],
      "source": [
        "# Check for missing values in day_df\n",
        "day_df.isna().sum()"
      ]
    },
    {
      "cell_type": "markdown",
      "metadata": {
        "id": "oR9uYUpHJSKu"
      },
      "source": [
        "Dapat disimpulkan bahwa tidak terdapat missing value pada tabel \"day_df\""
      ]
    },
    {
      "cell_type": "code",
      "execution_count": null,
      "metadata": {
        "colab": {
          "base_uri": "https://localhost:8080/"
        },
        "id": "rdirftWKI16S",
        "outputId": "6bf7233b-7fdf-4a98-c375-aa2f9b767e22"
      },
      "outputs": [],
      "source": [
        "#Check for duplicated data in day_df.\n",
        "print(\"Jumlah duplikasi: \", day_df.duplicated().sum())"
      ]
    },
    {
      "cell_type": "markdown",
      "metadata": {
        "id": "iTiuYoCsKReL"
      },
      "source": [
        "Duplikasi 0 artinya tidak ada duplikasi data"
      ]
    },
    {
      "cell_type": "code",
      "execution_count": null,
      "metadata": {
        "colab": {
          "base_uri": "https://localhost:8080/",
          "height": 320
        },
        "id": "CmTHGJkpLExl",
        "outputId": "73f7fd94-cc7c-445d-fdba-09b5e95a8108"
      },
      "outputs": [],
      "source": [
        "#Displaying Summary Statistical Parameters.\n",
        "\n",
        "day_df.describe()"
      ]
    },
    {
      "cell_type": "markdown",
      "metadata": {
        "id": "j5voOFxJLb8e"
      },
      "source": [
        "Tidak ada masalah pada parameter statistik (aman)"
      ]
    },
    {
      "cell_type": "markdown",
      "metadata": {
        "id": "kjKWdf7sLp5q"
      },
      "source": [
        "**Menilai \"hour_df\"**"
      ]
    },
    {
      "cell_type": "code",
      "execution_count": null,
      "metadata": {
        "colab": {
          "base_uri": "https://localhost:8080/"
        },
        "id": "zrnLCLeHLjgV",
        "outputId": "b2fa2ad4-15db-4fa2-9330-b3c52231a31b"
      },
      "outputs": [],
      "source": [
        "# Check the data types of hour_df\n",
        "hour_df.info()"
      ]
    },
    {
      "cell_type": "markdown",
      "metadata": {
        "id": "5edGKI-0MUJX"
      },
      "source": [
        "Ada 1 tipe data yang tidak sesuai (dteday-object). Data tersebut perlu diperbaiki menjadi dteday -> datetime"
      ]
    },
    {
      "cell_type": "code",
      "execution_count": null,
      "metadata": {
        "colab": {
          "base_uri": "https://localhost:8080/"
        },
        "id": "D8YCVrkGMDcd",
        "outputId": "8843bad7-bb72-4f68-ef79-4256e13d363a"
      },
      "outputs": [],
      "source": [
        "# Check for missing values in hour_df\n",
        "hour_df.isna().sum()"
      ]
    },
    {
      "cell_type": "markdown",
      "metadata": {
        "id": "xAzy30gMMlQ6"
      },
      "source": [
        "Tidak ada duplikasi data (aman)"
      ]
    },
    {
      "cell_type": "code",
      "execution_count": null,
      "metadata": {
        "colab": {
          "base_uri": "https://localhost:8080/",
          "height": 320
        },
        "id": "o1z8QETiMoeT",
        "outputId": "0f59ea6f-cc51-46db-edd7-2dd18c4f4d5c"
      },
      "outputs": [],
      "source": [
        "#Displaying Summary Statistical Parameters.\n",
        "\n",
        "hour_df.describe()"
      ]
    },
    {
      "cell_type": "markdown",
      "metadata": {
        "id": "P-7Zg_CtOXU9"
      },
      "source": [
        "Tidak ada masalah pada parameter statistik (aman)"
      ]
    },
    {
      "cell_type": "markdown",
      "metadata": {
        "id": "EhN5R4hr8DC1"
      },
      "source": [
        "### Cleaning Data"
      ]
    },
    {
      "cell_type": "markdown",
      "metadata": {
        "id": "C2Oz2qu2Oyir"
      },
      "source": [
        "**Menghapus tabel yang tidak diperlukan**"
      ]
    },
    {
      "cell_type": "code",
      "execution_count": null,
      "metadata": {
        "id": "jVnYpprE9Evz"
      },
      "outputs": [],
      "source": [
        "# Deleting the \"hour_df\" table as it is not relevant to the business question and its contents are the same as the \"day_df\" table, differing only in the \"hr\" column.\n",
        "del hour_df\n"
      ]
    },
    {
      "cell_type": "markdown",
      "metadata": {
        "id": "58SuIbu7QaXA"
      },
      "source": [
        "**Menghapus column yang tidak diperlukan**"
      ]
    },
    {
      "cell_type": "code",
      "execution_count": null,
      "metadata": {
        "colab": {
          "base_uri": "https://localhost:8080/",
          "height": 206
        },
        "id": "ZCbY0mQkQPDf",
        "outputId": "ad3cce3e-a276-4dbd-c788-40663d190d07"
      },
      "outputs": [],
      "source": [
        "# Removing the instant column (does not provide meaningful information)\n",
        "# Removing the windspeed column (not relevant to the business question)\n",
        "drop_columns = ['instant', 'windspeed']\n",
        "\n",
        "for col in day_df.columns:\n",
        "    if col in drop_columns:\n",
        "        day_df.drop(labels=col, axis=1, inplace=True)\n",
        "\n",
        "day_df.head()\n"
      ]
    },
    {
      "cell_type": "markdown",
      "metadata": {
        "id": "eN1AkCvNR9hz"
      },
      "source": [
        "**Modifikasi column**"
      ]
    },
    {
      "cell_type": "code",
      "execution_count": null,
      "metadata": {
        "colab": {
          "base_uri": "https://localhost:8080/",
          "height": 206
        },
        "id": "ecvSJqu-SCwE",
        "outputId": "bd590f1a-d11e-49cc-d7b5-9a7fef6e1e32"
      },
      "outputs": [],
      "source": [
        "# Changing column names (Optional)\n",
        "day_df.rename(columns={\n",
        "    'dteday': 'dateday',\n",
        "    'yr': 'year',\n",
        "    'mnth': 'month',\n",
        "    'cnt': 'count'\n",
        "}, inplace=True)\n",
        "\n",
        "day_df.head()\n"
      ]
    },
    {
      "cell_type": "code",
      "execution_count": null,
      "metadata": {
        "colab": {
          "base_uri": "https://localhost:8080/"
        },
        "id": "Z9ShpYqfVMvo",
        "outputId": "c77a8292-48fa-49de-ec1f-867a8fbdf955"
      },
      "outputs": [],
      "source": [
        "# Changing the data type of the dateday column to datetime.\n",
        "day_df['dateday'] = pd.to_datetime(day_df['dateday'])\n",
        "day_df.info()\n"
      ]
    },
    {
      "cell_type": "code",
      "execution_count": null,
      "metadata": {
        "colab": {
          "base_uri": "https://localhost:8080/",
          "height": 206
        },
        "id": "8XbcAUhMb8Jm",
        "outputId": "92193010-1260-4e48-f97d-03b52f7e9d67"
      },
      "outputs": [],
      "source": [
        "day_df.head()"
      ]
    },
    {
      "cell_type": "code",
      "execution_count": null,
      "metadata": {
        "colab": {
          "base_uri": "https://localhost:8080/",
          "height": 206
        },
        "id": "ThZQBZrrcefy",
        "outputId": "2c338aab-bd91-415f-a4ed-bc0e616ac839"
      },
      "outputs": [],
      "source": [
        "# Changing data types\n",
        "# Weekday, month, year columns\n",
        "day_df['weekday'] = day_df['dateday'].dt.day_name()\n",
        "day_df['year'] = day_df['dateday'].dt.year\n",
        "\n",
        "# Season column\n",
        "day_df['season'] = day_df['season'].map({\n",
        "    1: 'Spring', 2: 'Summer', 3: 'Fall', 4: 'Winter'\n",
        "})\n",
        "\n",
        "# Weathersit column\n",
        "day_df['weathersit'] = day_df['weathersit'].map({\n",
        "    1: 'Clear/Partly Cloudy',\n",
        "    2: 'Misty/Cloudy',\n",
        "    3: 'Light Snow/Rain',\n",
        "    4: 'Severe Weather'\n",
        "})\n",
        "\n",
        "day_df.head()\n"
      ]
    },
    {
      "cell_type": "code",
      "execution_count": null,
      "metadata": {
        "colab": {
          "base_uri": "https://localhost:8080/"
        },
        "id": "cw2i-utpjD8r",
        "outputId": "4516bd40-be5b-4e2c-c545-d415867c7853"
      },
      "outputs": [],
      "source": [
        "day_df.dtypes"
      ]
    },
    {
      "cell_type": "code",
      "execution_count": null,
      "metadata": {
        "colab": {
          "base_uri": "https://localhost:8080/",
          "height": 802
        },
        "id": "GerE23JmIceT",
        "outputId": "2c37d42b-0c11-4f6b-d6f5-e7cba1bb533c"
      },
      "outputs": [],
      "source": [
        "# Resampling data based on month and calculating total rides\n",
        "monthly_rent_df = day_df.resample(rule='M', on='dateday').agg({\n",
        "    \"casual\": \"sum\",\n",
        "    \"registered\": \"sum\",\n",
        "    \"count\": \"sum\"\n",
        "})\n",
        "\n",
        "# Change index format to month-year (Jan-20, Feb-20, etc.)\n",
        "monthly_rent_df.index = monthly_rent_df.index.strftime('%b-%y')\n",
        "monthly_rent_df = monthly_rent_df.reset_index()\n",
        "\n",
        "# Rename columns\n",
        "monthly_rent_df.rename(columns={\n",
        "    \"dateday\": \"yearmonth\",\n",
        "    \"count\": \"total_rides\",\n",
        "    \"casual\": \"casual_rides\",\n",
        "    \"registered\": \"registered_rides\"\n",
        "}, inplace=True)\n",
        "\n",
        "monthly_rent_df\n"
      ]
    },
    {
      "cell_type": "markdown",
      "metadata": {
        "id": "AEMTgZ-HlSkF"
      },
      "source": [
        "**Save data yang telah dicleaning**"
      ]
    },
    {
      "cell_type": "code",
      "execution_count": null,
      "metadata": {
        "id": "83x7vsvKlFq-"
      },
      "outputs": [],
      "source": [
        "day_df.to_csv(\"cleaned_bikeshare.csv\", index=False)"
      ]
    },
    {
      "cell_type": "markdown",
      "metadata": {
        "id": "gp-Y6wU38DC1"
      },
      "source": [
        "## Exploratory Data Analysis (EDA)"
      ]
    },
    {
      "cell_type": "markdown",
      "metadata": {
        "id": "MW7WF2kr8DC1"
      },
      "source": [
        "### Explore data day_df"
      ]
    },
    {
      "cell_type": "markdown",
      "metadata": {
        "id": "uEeAvAPoBq6r"
      },
      "source": [
        "**Analisis Statistik Penyewaan Sepeda Berdasarkan Bulan (Month)**"
      ]
    },
    {
      "cell_type": "code",
      "execution_count": null,
      "metadata": {
        "colab": {
          "base_uri": "https://localhost:8080/",
          "height": 457
        },
        "id": "e9CQCZjk8DC2",
        "outputId": "a82f0fdf-3b79-4744-b672-158c57b350b2"
      },
      "outputs": [],
      "source": [
        "# Grouping bike renters (casual and registered) data by month\n",
        "grouped_by_month = day_df.groupby('month')\n",
        "\n",
        "# Calculating aggregate statistics for each month\n",
        "aggregated_stats_by_month = grouped_by_month['count'].agg(['max', 'min', 'mean', 'sum'])\n",
        "aggregated_stats_by_month\n"
      ]
    },
    {
      "cell_type": "markdown",
      "metadata": {
        "id": "V0IRs1tjBaqJ"
      },
      "source": [
        " Dapat disimpulkan bahwa Bulan Juni sebagai bulan dengan jumlah penyewaan sepeda tertinggi, baik dari segi rata-rata maupun total keseluruhan. Sebaliknya, bulan Januari merupakan bulan dengan aktivitas penyewaan sepeda yang paling minim"
      ]
    },
    {
      "cell_type": "markdown",
      "metadata": {
        "id": "J4ebsW99CBuF"
      },
      "source": [
        "**Analisis Statistik Penyewaan Sepeda Berdasarkan Cuaca (Weathersit)**"
      ]
    },
    {
      "cell_type": "code",
      "execution_count": null,
      "metadata": {
        "colab": {
          "base_uri": "https://localhost:8080/",
          "height": 175
        },
        "id": "RaDecQhIB0_t",
        "outputId": "e8c9b496-fcee-46e8-a122-b9f7d3baf4f6"
      },
      "outputs": [],
      "source": [
        "# Grouping bike renters (casual and registered) data by weather\n",
        "grouped_by_weather = day_df.groupby('weathersit')\n",
        "\n",
        "# Calculating aggregate statistics for each weather type\n",
        "aggregated_stats_by_weather = grouped_by_weather['count'].agg(['max', 'min', 'mean', 'sum'])\n",
        "aggregated_stats_by_weather\n"
      ]
    },
    {
      "cell_type": "markdown",
      "metadata": {
        "id": "G21ycR4gC7xK"
      },
      "source": [
        "Kondisi cuaca yang cerah atau sebagian cerah (\"Clear/Partly Cloudy\") cenderung memiliki jumlah penyewa sepeda yang lebih tinggi, diikuti oleh kondisi cuaca \"Misty/Cloudy\", sementara kondisi cuaca \"Light Snow/Rain\" memiliki jumlah penyewa sepeda yang paling rendah."
      ]
    },
    {
      "cell_type": "markdown",
      "metadata": {
        "id": "oQraO-epEgmd"
      },
      "source": [
        "**Analisis Statistik Penyewaan Sepeda Berdasarkan Hari Libur (Holiday)**"
      ]
    },
    {
      "cell_type": "code",
      "execution_count": null,
      "metadata": {
        "colab": {
          "base_uri": "https://localhost:8080/",
          "height": 143
        },
        "id": "NvBFJ6MyEnw1",
        "outputId": "4c397b3f-5609-4d7f-fb28-07d4bc80e35b"
      },
      "outputs": [],
      "source": [
        "# Grouping bike renters (casual and registered) data by holiday\n",
        "grouped_by_holiday = day_df.groupby('holiday')\n",
        "\n",
        "# Calculating aggregate statistics for each holiday condition\n",
        "aggregated_stats_by_holiday = grouped_by_holiday['count'].agg(['max', 'min', 'mean', 'sum'])\n",
        "aggregated_stats_by_holiday\n"
      ]
    },
    {
      "cell_type": "markdown",
      "metadata": {
        "id": "1MNZikBGFw_v"
      },
      "source": [
        " Saat bukan hari libur (non-holiday), jumlah penyewa sepeda cenderung lebih tinggi dibandingkan saat hari libur (holiday)."
      ]
    },
    {
      "cell_type": "markdown",
      "metadata": {
        "id": "AAnSaZsGGjv2"
      },
      "source": [
        "**Perbandingan Aktivitas Penyewaan Sepeda: Hari Kerja vs. Akhir Pekan**"
      ]
    },
    {
      "cell_type": "code",
      "execution_count": null,
      "metadata": {
        "colab": {
          "base_uri": "https://localhost:8080/",
          "height": 300
        },
        "id": "MvjSJW2eGix4",
        "outputId": "40c2862d-47f4-41f3-f22e-4eccd6655b61"
      },
      "outputs": [],
      "source": [
        "# Comparing the number of bike renters on weekdays and weekends\n",
        "grouped_by_weekday = day_df.groupby('weekday')\n",
        "\n",
        "# Calculating aggregate statistics for the number of bike renters on weekdays and weekends\n",
        "aggregated_stats_by_weekday = grouped_by_weekday['count'].agg(['max', 'min', 'mean'])\n",
        "aggregated_stats_by_weekday\n"
      ]
    },
    {
      "cell_type": "markdown",
      "metadata": {
        "id": "Vz4msdm6IBzu"
      },
      "source": [
        "Dari data yang terlihat, urutan rata-rata jumlah penyewa sepeda dari yang paling banyak ke yang paling sedikit adalah: Jumat (Fri), Kamis (Thu), Sabtu (Sat), Rabu (Wed), Selasa (Tue), Senin (Mon), dan Minggu (Sun)."
      ]
    },
    {
      "cell_type": "markdown",
      "metadata": {
        "id": "O_M1-j2_I9m1"
      },
      "source": [
        "**Perbandingan Jumlah Penyewa Sepeda antara Hari Kerja dan Bukan Workingday**"
      ]
    },
    {
      "cell_type": "code",
      "execution_count": null,
      "metadata": {
        "colab": {
          "base_uri": "https://localhost:8080/",
          "height": 143
        },
        "id": "Kr_mnyOMJTTw",
        "outputId": "96e8b48c-4ea4-4058-d5b9-534d51d691ec"
      },
      "outputs": [],
      "source": [
        "# Grouping bike renters data by working day\n",
        "grouped_by_workingday = day_df.groupby('workingday')\n",
        "\n",
        "# Calculating aggregate statistics for the number of bike rentals on working and non-working days\n",
        "aggregated_stats_by_workingday = grouped_by_workingday['count'].agg(['max', 'min', 'mean'])\n",
        "aggregated_stats_by_workingday\n"
      ]
    },
    {
      "cell_type": "markdown",
      "metadata": {
        "id": "LOe3PBtsK03N"
      },
      "source": [
        "Meskipun lebih banyak orang menyewa sepeda pada hari kerja, perbedaan jumlah penyewaan antara hari kerja dan hari non-kerja tidak terlalu besar. Orang masih melakukan penyewaan sepeda secara signifikan pada hari-hari non-kerja juga."
      ]
    },
    {
      "cell_type": "markdown",
      "metadata": {
        "id": "MQwgDr2nLPB5"
      },
      "source": [
        "**Analisis Penyewaan Sepeda Berdasarkan Musim (Season)**"
      ]
    },
    {
      "cell_type": "code",
      "execution_count": null,
      "metadata": {
        "colab": {
          "base_uri": "https://localhost:8080/",
          "height": 238
        },
        "id": "OypImQo_LVHM",
        "outputId": "c3b0c8f9-cccf-4ffd-887f-f791f56163cb"
      },
      "outputs": [],
      "source": [
        "# Grouping bike rental data by season\n",
        "grouped_by_season = day_df.groupby('season')\n",
        "\n",
        "# Calculating the average number of casual and registered bike rentals, as well as aggregate statistics for total bike rentals\n",
        "aggregated_stats_by_season = grouped_by_season.agg({\n",
        "    'casual': 'mean',\n",
        "    'registered': 'mean',\n",
        "    'count': ['max', 'min', 'mean']\n",
        "})\n",
        "aggregated_stats_by_season\n"
      ]
    },
    {
      "cell_type": "markdown",
      "metadata": {
        "id": "zQFGgNe9L6ET"
      },
      "source": [
        "Musim gugur dan musim panas menunjukkan aktivitas penyewaan sepeda yang lebih tinggi, sedangkan musim semi dan musim dingin memiliki aktivitas yang sedikit lebih rendah tetapi masih signifikan."
      ]
    },
    {
      "cell_type": "markdown",
      "metadata": {
        "id": "yp47ec7_MA4f"
      },
      "source": [
        "**Analisis Statistik Variabel Cuaca Berdasarkan Musim**"
      ]
    },
    {
      "cell_type": "code",
      "execution_count": null,
      "metadata": {
        "colab": {
          "base_uri": "https://localhost:8080/",
          "height": 238
        },
        "id": "eobuGecWMID3",
        "outputId": "cff5829e-f8c4-42a2-946e-a045d5755833"
      },
      "outputs": [],
      "source": [
        "# Grouping data by season and calculating aggregate statistics for temperature variables (temp),\n",
        "# perceived temperature (atemp),\n",
        "# and humidity (hum)\n",
        "aggregated_stats_by_season = day_df.groupby('season').agg({\n",
        "    'temp': ['max', 'min', 'mean'],\n",
        "    'atemp': ['max', 'min', 'mean'],\n",
        "    'hum': ['max', 'min', 'mean']\n",
        "})\n",
        "aggregated_stats_by_season\n"
      ]
    },
    {
      "cell_type": "markdown",
      "metadata": {
        "id": "ullf_O6zMtOW"
      },
      "source": [
        "Rata-rata temperatur dan suhu rasakan tertinggi terjadi pada musim gugur (fall season), yang kemudian diikuti oleh musim panas (summer), musim dingin (winter), dan musim semi (spring).\n",
        "\n",
        "Rata-rata kelembaban tertinggi terjadi pada musim dingin (winter season), yang kemudian diikuti oleh musim gugur (fall), musim panas (summer), dan musim semi (spring)."
      ]
    },
    {
      "cell_type": "markdown",
      "metadata": {
        "id": "_wMTEFORMvY9"
      },
      "source": [
        "**Hubungan antara Penyewa Casual, Registered, dan Total**"
      ]
    },
    {
      "cell_type": "code",
      "execution_count": null,
      "metadata": {
        "colab": {
          "base_uri": "https://localhost:8080/",
          "height": 612
        },
        "id": "WC0d2Dr6M-6U",
        "outputId": "2af0cdb5-7c3d-470f-a789-00bbca4829d5"
      },
      "outputs": [],
      "source": [
        "# Creating a correlation heatmap to visualize the relationship between casual, registered, and count renters\n",
        "fig, ax = plt.subplots(figsize=(10, 6))\n",
        "correlation_matrix = day_df.corr(numeric_only=True)\n",
        "mask = np.triu(np.ones_like(correlation_matrix, dtype=bool))\n",
        "\n",
        "sns.heatmap(\n",
        "    correlation_matrix,\n",
        "    annot=True,\n",
        "    mask=mask,\n",
        "    cmap=\"coolwarm\",\n",
        "    center=0,\n",
        "    fmt=\".2f\"\n",
        ")\n",
        "plt.title(\"Correlation Heatmap\")\n",
        "plt.show()\n"
      ]
    },
    {
      "cell_type": "markdown",
      "metadata": {
        "id": "rJdFkbGrNozq"
      },
      "source": [
        "\n",
        "Berdasarkan hasil analisis di atas, dapat disimpulkan beberapa pernyataan sebagai berikut:\n",
        "- Variabel atemp dan temp memiliki korelasi yang sangat tinggi, yaitu sebesar 0.99, menunjukkan bahwa keduanya memiliki hubungan yang sangat erat.\n",
        "- Variabel hum memiliki korelasi yang lemah dengan temp dan atemp, yaitu sebesar 0.13 dan 0.14, menunjukkan bahwa hubungan antara kelembaban udara dengan suhu dan suhu rasakan tidak begitu kuat.\n",
        "- Variabel casual cukup berkorelasi dengan temp dan atemp, dengan koefisien korelasi sebesar 0.54, dan sedikit berkorelasi negatif dengan hum, yaitu sebesar -0.08.\n",
        "- Variabel registered memiliki pola yang sama dengan casual, dan memiliki korelasi moderat dengan casual sebesar 0.40.\n",
        "- Variabel count berkorelasi kuat dengan temp, atemp, casual, dan registered, dengan koefisien korelasi masing-masing sebesar 0.63, 0.63, 0.67, dan 0.95. Namun, variabel count memiliki korelasi sedikit negatif dengan hum, yaitu sebesar -0.10."
      ]
    },
    {
      "cell_type": "markdown",
      "metadata": {
        "id": "zsyZjqak8DC2"
      },
      "source": [
        "## Visualization & Explanatory Analysis"
      ]
    },
    {
      "cell_type": "markdown",
      "metadata": {
        "id": "SfXFQG-3krlq"
      },
      "source": [
        "### Pertanyaan 1: Bagaimana tren jumlah penyewaan sepeda dalam beberapa tahun terakhir?\n",
        "\n",
        "\n",
        "\n"
      ]
    },
    {
      "cell_type": "code",
      "execution_count": null,
      "metadata": {
        "colab": {
          "base_uri": "https://localhost:8080/",
          "height": 542
        },
        "id": "HIQ5ZjVOCf3A",
        "outputId": "b1ad73e6-bca2-48a1-ba0a-441ecc0548b0"
      },
      "outputs": [],
      "source": [
        "\n",
        "# Grouping data by yearmonth and calculating the total casual, registered, and total rides\n",
        "monthly_rent_df['total_rides'] = monthly_rent_df['casual_rides'] + monthly_rent_df['registered_rides']\n",
        "fig = px.bar(monthly_rent_df,\n",
        "             x='yearmonth',\n",
        "             y=['casual_rides', 'registered_rides', 'total_rides'],\n",
        "             barmode='group',\n",
        "             color_discrete_sequence=[\"#FF69B4\", \"#00FF00\", \"#0000FF\"],\n",
        "             title=\"Bike Rental Trends in Recent Years\",\n",
        "             labels={'casual_rides': 'Casual Rentals', 'registered_rides': 'Registered Rentals', 'total_rides': 'Total Rides'})\n",
        "\n",
        "# Displaying the figure\n",
        "fig.update_layout(xaxis_title='', yaxis_title='Total Rentals',\n",
        "                  xaxis=dict(showgrid=False, showline=True, linecolor='rgb(204, 204, 204)', linewidth=2, mirror=True),\n",
        "                  yaxis=dict(showgrid=False, zeroline=False, showline=True, linecolor='rgb(204, 204, 204)', linewidth=2, mirror=True),\n",
        "                  plot_bgcolor='rgba(255, 255, 255, 0)',\n",
        "                  showlegend=True,\n",
        "                  legend=dict(orientation=\"h\", yanchor=\"bottom\", y=1.02, xanchor=\"right\", x=1))\n",
        "\n",
        "fig.show()\n"
      ]
    },
    {
      "cell_type": "markdown",
      "metadata": {
        "id": "4nEvYFfiC8yc"
      },
      "source": [
        "Berdasarkan visualisasi menggunakan bar plot, terlihat bahwa tren jumlah penyewaan sepeda dalam beberapa tahun terakhir menunjukkan peningkatan dari tahun 2011 hingga 2012. Puncak penyewaan sepeda terjadi pada bulan September di tahun 2012, sementara bulan dengan jumlah penyewaan sepeda terendah adalah bulan Januari di tahun yang sama. Di tahun 2011, puncak penyewaan sepeda terjadi pada bulan Juni, dan bulan dengan jumlah penyewaan sepeda terendah juga adalah bulan Januari. Selain itu, perbandingan antara jumlah penyewaan sepeda casual, registered, dan total juga dapat diamati dari visualisasi ini. Hal ini menunjukkan bahwa secara umum terdapat tren peningkatan jumlah penyewaan sepeda dari tahun 2011 ke tahun 2012."
      ]
    },
    {
      "cell_type": "markdown",
      "metadata": {
        "id": "HZxOiQ6n8DC2"
      },
      "source": [
        "### Pertanyaan 2: Apakah kondisi cuaca mempengaruhi jumlah pengguna sepeda?"
      ]
    },
    {
      "cell_type": "code",
      "execution_count": null,
      "metadata": {
        "colab": {
          "base_uri": "https://localhost:8080/",
          "height": 542
        },
        "id": "1swJUdAD8DC2",
        "outputId": "782abf0b-efaf-4181-c55c-d33f9088a1df"
      },
      "outputs": [],
      "source": [
        "fig = px.box(day_df, x='weathersit', y='count', color='weathersit',\n",
        "             title='Bike Users Distribution Based on Weather Condition',\n",
        "             labels={'weathersit': 'Weather Condition', 'count': 'Total Rentals'})\n",
        "\n",
        "# Display the plot\n",
        "fig.show()\n"
      ]
    },
    {
      "cell_type": "markdown",
      "metadata": {
        "id": "XIhoRsX6f29k"
      },
      "source": [
        "Dari hasil box plot dapat disimpulkan bahwa kondisi cuaca yang cerah atau sebagian cerah (\"Clear/Partly Cloudy\") cenderung memiliki jumlah penyewa sepeda yang lebih banyak, diikuti oleh kondisi cuaca \"Misty/Cloudy\", sementara kondisi cuaca \"Light Snow/Rain\" memiliki jumlah penyewa sepeda yang paling sedikit. Hal ini membuktikan cuaca dapat mempengaruhi atau berperan penting dalam penggunaan sepeda."
      ]
    },
    {
      "cell_type": "markdown",
      "metadata": {
        "id": "DgHI7CiU8DC2"
      },
      "source": [
        "### Pertanyaan 3: Bagaimana perbedaan pola penggunaan sepeda antara hari kerja (workingday), hari libur (holiday), dan hari biasa (weekday)?\n",
        "\n",
        "\n",
        "\n"
      ]
    },
    {
      "cell_type": "code",
      "execution_count": null,
      "metadata": {
        "colab": {
          "base_uri": "https://localhost:8080/",
          "height": 1000
        },
        "id": "Go0lCsvO8DC2",
        "outputId": "9a554b02-aac5-46ca-ff94-8e5b71a95c92"
      },
      "outputs": [],
      "source": [
        "# Plot for working day\n",
        "fig1 = px.box(day_df, x='workingday', y='count', color='workingday',\n",
        "              title='Bike Rental Clusters by Working Day',\n",
        "              labels={'workingday': 'Working Day', 'count': 'Total Rentals'},\n",
        "              color_discrete_sequence=['#00FFFF', '#FF00FF', '#FFFF00', '#00FF00', '#FF0000'])\n",
        "fig1.update_xaxes(title_text='Working Day')\n",
        "fig1.update_yaxes(title_text='Total Rentals')\n",
        "\n",
        "# Plot for holiday\n",
        "fig2 = px.box(day_df, x='holiday', y='count', color='holiday',\n",
        "              title='Bike Rental Clusters by Holiday',\n",
        "              labels={'holiday': 'Holiday', 'count': 'Total Rentals'},\n",
        "              color_discrete_sequence=['#00FFFF', '#FF00FF', '#FFFF00', '#00FF00', '#FF0000'])\n",
        "fig2.update_xaxes(title_text='Holiday')\n",
        "fig2.update_yaxes(title_text='Total Rentals')\n",
        "\n",
        "# Plot for weekday\n",
        "fig3 = px.box(day_df, x='weekday', y='count', color='weekday',\n",
        "              title='Bike Rental Clusters by Weekday',\n",
        "              labels={'weekday': 'Weekday', 'count': 'Total Rentals'},\n",
        "              color_discrete_sequence=['#00FFFF', '#FF00FF', '#FFFF00', '#00FF00', '#FF0000'])\n",
        "fig3.update_xaxes(title_text='Weekday')\n",
        "fig3.update_yaxes(title_text='Total Rentals')\n",
        "\n",
        "# Displaying the plots\n",
        "fig1.show()\n",
        "fig2.show()\n",
        "fig3.show()\n"
      ]
    },
    {
      "cell_type": "markdown",
      "metadata": {
        "id": "qgV6VDOIkcCd"
      },
      "source": [
        "Berdasarkan visualisasi diatas, diperoleh informasi sebagai berikut:\n",
        "1. Jumlah penyewa sepeda lebih tinggi pada hari kerja (Senin hingga Jumat) daripada akhir pekan (Sabtu dan Minggu), di mana nilai 0 menunjukkan akhir pekan dan nilai 1 menunjukkan hari kerja.\n",
        "2. Jumlah penyewa sepeda jauh lebih tinggi pada hari biasa (bukan hari libur) dibandingkan hari libur (nasional).\n",
        "3. Hari Jumat memiliki jumlah penyewa sepeda tertinggi, diikuti oleh hari-hari kerja lainnya, sementara hari Minggu memiliki jumlah penyewa sepeda terendah."
      ]
    },
    {
      "cell_type": "markdown",
      "metadata": {
        "id": "tuj4hgJnj4MF"
      },
      "source": [
        "### Pertanyaan 4: Apakah ada korelasi antara suhu yang menunjukkan kondisi ketika jumlah penyewaan sepeda tinggi?\n",
        "\n"
      ]
    },
    {
      "cell_type": "code",
      "execution_count": null,
      "metadata": {
        "colab": {
          "base_uri": "https://localhost:8080/",
          "height": 542
        },
        "id": "LD2uMeZJjegi",
        "outputId": "f6bfe443-62a5-4e03-b2d8-de3e30d57af5"
      },
      "outputs": [],
      "source": [
        "# Creating a scatter plot\n",
        "fig = px.scatter(day_df, x='temp', y='count', color='season',\n",
        "                 title='Bike Rental Clusters by Season and Temperature',\n",
        "                 labels={'temp': 'Temperature (°C)', 'count': 'Total Rentals'},\n",
        "                 color_discrete_sequence=['#1f77b4', '#ff7f0e', '#2ca02c', '#d62728'],\n",
        "                 hover_name='season')\n",
        "\n",
        "# Displaying the plot\n",
        "fig.show()\n"
      ]
    },
    {
      "cell_type": "markdown",
      "metadata": {
        "id": "yEQoGc0YkM2z"
      },
      "source": [
        "\n",
        "Berdasarkan scatterplot, ditemukan pola sebagai berikut:\n",
        "1. Cuaca dingin pada musim dingin mengurangi jumlah penyewaan sepeda.\n",
        "2. Peningkatan suhu terutama selama musim panas meningkatkan jumlah penyewaan.\n",
        "3. Ada titik optimal suhu di musim gugur dan musim panas yang meningkatkan jumlah penyewaan.\n",
        "4. Suhu yang nyaman pada titik optimal meningkatkan penggunaan layanan penyewaan sepeda."
      ]
    },
    {
      "cell_type": "markdown",
      "metadata": {
        "id": "Q0_V9v4rng0F"
      },
      "source": [
        "### Pertanyaan 5: Apakah musim mempengaruhi jumlah penyewa sepeda berdasarkan kategori Casual dan Registered\n",
        "\n"
      ]
    },
    {
      "cell_type": "code",
      "execution_count": null,
      "metadata": {
        "colab": {
          "base_uri": "https://localhost:8080/",
          "height": 542
        },
        "id": "Qsqy4cM5nzNP",
        "outputId": "10ba4f30-75a9-4ab4-e9d2-1468d303eef2"
      },
      "outputs": [],
      "source": [
        "# Grouping data by season and calculating the total registered and casual usages\n",
        "seasonal_usage = day_df.groupby('season')[['registered', 'casual']].sum().reset_index()\n",
        "\n",
        "# Creating a bar plot\n",
        "fig = px.bar(seasonal_usage, x='season', y=['registered', 'casual'],\n",
        "             title='Bike Rental Counts by Season',\n",
        "             labels={'season': 'Season', 'value': 'Total Rentals', 'variable': 'User Type'},\n",
        "             color_discrete_sequence=[\"#00FF00\",\"#0000FF\"], barmode='group')\n",
        "\n",
        "# Displaying the plot\n",
        "fig.show()\n"
      ]
    },
    {
      "cell_type": "markdown",
      "metadata": {
        "id": "zTBdBktRm8iG"
      },
      "source": [
        "Analisis menggunakan barplot menunjukkan bahwa aktivitas penyewaan sepeda paling tinggi terjadi selama musim gugur (Fall), diikuti oleh musim panas (Summer), musim dingin (Winter), dan terakhir musim semi (Spring). Ini berlaku baik untuk pengguna terdaftar maupun pengguna casual."
      ]
    },
    {
      "cell_type": "markdown",
      "metadata": {
        "id": "_WeHlCeX8DC2"
      },
      "source": [
        "## Conclusion"
      ]
    },
    {
      "cell_type": "markdown",
      "metadata": {
        "id": "ZTcyR48Y8DC2"
      },
      "source": [
        "- Conclution pertanyaan 1: Kondisi cuaca memang mempengaruhi jumlah pengguna sepeda. Pada hari-hari dengan kondisi cuaca yang baik, seperti cerah atau berawan, jumlah pengguna sepeda cenderung meningkat. Sebaliknya, saat kondisi cuaca buruk, seperti hujan atau salju, jumlah pengguna sepeda cenderung menurun.\n",
        "- Conclution pertanyaan 2: Terdapat peningkatan secara keseluruhan dari tahun ke tahun. Pada tahun 2011, jumlah penyewaan sepeda cenderung lebih rendah dibandingkan dengan tahun 2012. Peningkatan tersebut dapat dilihat terutama pada rentang bulan Mei hingga Oktober di kedua tahun tersebut.\n",
        "- Conclution pertanyaan 3: Pola penggunaan sepeda menunjukkan perbedaan yang signifikan antara hari kerja (workingday), hari libur (holiday), dan hari biasa (weekday). Jumlah pengguna sepeda cenderung lebih tinggi pada hari kerja dibandingkan dengan hari libur, meskipun perbedaannya tidak terlalu signifikan. Selain itu, hari biasa juga menunjukkan variasi dalam jumlah penggunaan sepeda, di mana Hari Jumat mencatat jumlah penggunaan tertinggi, sementara Minggu menunjukkan jumlah penggunaan terendah. Hal ini mencerminkan preferensi dan kebiasaan pengguna dalam menggunakan sepeda sesuai dengan konteks waktu dan aktivitas harian.\n",
        "- Conclution pertanyaan 4:Terdapat hubungan yang jelas antara suhu dan jumlah penyewaan sepeda. Saat suhu meningkat, jumlah penyewaan sepeda juga cenderung meningkat, terutama selama musim panas. Sebaliknya, jumlah penyewaan cenderung rendah saat suhu lebih rendah, khususnya selama musim dingin.\n",
        "- Conclution pertanyaan 5: Terdapat pengaruh musim terhadap jumlah penyewa sepeda baik dalam kategori Casual maupun Registered. Musim gugur dan musim panas merupakan musim dengan jumlah penyewa sepeda tertinggi, diikuti oleh musim semi dan musim dingin yang cenderung memiliki jumlah penyewa sepeda yang lebih rendah."
      ]
    }
  ],
  "metadata": {
    "colab": {
      "provenance": []
    },
    "kernelspec": {
      "display_name": "Python 3",
      "language": "python",
      "name": "python3"
    },
    "language_info": {
      "name": "python",
      "version": "3.12.2"
    },
    "orig_nbformat": 4,
    "vscode": {
      "interpreter": {
        "hash": "972b3bf27e332e87b5379f2791f6ef9dfc79c71018c370b0d7423235e20fe4d7"
      }
    }
  },
  "nbformat": 4,
  "nbformat_minor": 0
}
